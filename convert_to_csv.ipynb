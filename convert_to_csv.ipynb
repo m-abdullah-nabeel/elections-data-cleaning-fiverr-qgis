{
 "cells": [
  {
   "cell_type": "code",
   "execution_count": 58,
   "id": "7c751c18-f48a-4e25-b70b-d1e2330eb170",
   "metadata": {},
   "outputs": [],
   "source": [
    "import os"
   ]
  },
  {
   "cell_type": "code",
   "execution_count": 59,
   "id": "27ae1c34-03a5-4ebf-884c-c65b58237e65",
   "metadata": {},
   "outputs": [
    {
     "name": "stdin",
     "output_type": "stream",
     "text": [
      "Place the file in the notcsv folder and write its complete name here without extension:  2018_presidencia\n"
     ]
    }
   ],
   "source": [
    "name = input(\"Place the file in the notcsv folder and write its complete name here without extension: \")\n",
    "# 2018_presidencia"
   ]
  },
  {
   "cell_type": "code",
   "execution_count": 60,
   "id": "36777717-dca9-414e-a63d-ccfe17e3876b",
   "metadata": {},
   "outputs": [
    {
     "name": "stdout",
     "output_type": "stream",
     "text": [
      "Old Name: D:\\projects\\elections\\notcsv\\2018_presidencia.csv\n",
      "new_name: D:\\projects\\elections\\notcsv\\2018_presidencia.txt\n"
     ]
    }
   ],
   "source": [
    "# Rename file .csv with .txt \n",
    "old_name = fr\"D:\\projects\\elections\\notcsv\\{str(name)}.csv\" \n",
    "print(\"Old Name: \" + str(old_name))\n",
    "\n",
    "new_name = fr\"D:\\projects\\elections\\notcsv\\{str(name)}.txt\"\n",
    "print(\"new_name: \" + new_name)\n",
    "# Renaming the file\n",
    "os.rename(old_name, new_name)"
   ]
  },
  {
   "cell_type": "code",
   "execution_count": 61,
   "id": "f2715cde-2f79-4bce-86d8-161b152fc918",
   "metadata": {},
   "outputs": [],
   "source": [
    "fin = open(new_name, \"rt\")\n",
    "#read file contents to string\n",
    "data = fin.read()\n",
    "#replace all occurrences of the required string\n",
    "data = data.replace('|', ',')\n",
    "data = data.lower()\n",
    "# data.encode('utf-8').strip()\n",
    "\n",
    "#close the input file\n",
    "fin.close()\n",
    "#open the input file in write mode\n",
    "fin = open(new_name, \"wt\")\n",
    "#overrite the input file with the resulting data\n",
    "fin.write(data)\n",
    "#close the file\n",
    "fin.close()\n"
   ]
  },
  {
   "cell_type": "code",
   "execution_count": 62,
   "id": "e88cc89f-3374-4f78-817b-41fc4c5be5b9",
   "metadata": {},
   "outputs": [],
   "source": [
    "# Rename back to csv\n",
    "final_name = fr\"D:\\projects\\elections\\notcsv\\{str(name)}.csv\"\n",
    "os.rename(new_name, final_name)"
   ]
  },
  {
   "cell_type": "code",
   "execution_count": null,
   "id": "6757fa3c-b0fe-4f9b-a0b9-ea301a8fb568",
   "metadata": {},
   "outputs": [],
   "source": []
  }
 ],
 "metadata": {
  "kernelspec": {
   "display_name": "Python 3 (ipykernel)",
   "language": "python",
   "name": "python3"
  },
  "language_info": {
   "codemirror_mode": {
    "name": "ipython",
    "version": 3
   },
   "file_extension": ".py",
   "mimetype": "text/x-python",
   "name": "python",
   "nbconvert_exporter": "python",
   "pygments_lexer": "ipython3",
   "version": "3.10.0"
  }
 },
 "nbformat": 4,
 "nbformat_minor": 5
}
